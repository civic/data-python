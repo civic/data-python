{
 "cells": [
  {
   "cell_type": "markdown",
   "metadata": {},
   "source": [
    "<http://www.atmarkit.co.jp/ait/articles/1307/11/news009.html>\n",
    "# ITエンジニアのためのデータサイエンティスト養成講座（4）\n",
    "\n",
    "ログを分析するには？ XMLデータを分析するには？ pandasでデータを分析できる状態にする (1/3)"
   ]
  },
  {
   "cell_type": "code",
   "execution_count": 1,
   "metadata": {
    "collapsed": false
   },
   "outputs": [],
   "source": [
    "%matplotlib inline\n",
    "import pandas as pd\n",
    "import numpy as np\n",
    "import matplotlib\n",
    "matplotlib.style.use('ggplot')"
   ]
  },
  {
   "cell_type": "code",
   "execution_count": 2,
   "metadata": {
    "collapsed": true
   },
   "outputs": [],
   "source": [
    "#CSVデータの読み込み（電力の使用状況データ）\n",
    "df = pd.read_csv('http://www.tepco.co.jp/forecast/html/images/juyo-2013.csv', \n",
    "                skiprows=3, names=['date', 'time', 'actual'], encoding='Shift_JIS')  #3行読み飛ばし、列名指定、文字コード指定"
   ]
  },
  {
   "cell_type": "code",
   "execution_count": 3,
   "metadata": {
    "collapsed": false
   },
   "outputs": [
    {
     "data": {
      "text/html": [
       "<div>\n",
       "<table border=\"1\" class=\"dataframe\">\n",
       "  <thead>\n",
       "    <tr style=\"text-align: right;\">\n",
       "      <th></th>\n",
       "      <th>date</th>\n",
       "      <th>time</th>\n",
       "      <th>actual</th>\n",
       "    </tr>\n",
       "  </thead>\n",
       "  <tbody>\n",
       "    <tr>\n",
       "      <th>0</th>\n",
       "      <td>2013/1/1</td>\n",
       "      <td>0:00</td>\n",
       "      <td>2873</td>\n",
       "    </tr>\n",
       "    <tr>\n",
       "      <th>1</th>\n",
       "      <td>2013/1/1</td>\n",
       "      <td>1:00</td>\n",
       "      <td>2716</td>\n",
       "    </tr>\n",
       "    <tr>\n",
       "      <th>2</th>\n",
       "      <td>2013/1/1</td>\n",
       "      <td>2:00</td>\n",
       "      <td>2592</td>\n",
       "    </tr>\n",
       "    <tr>\n",
       "      <th>3</th>\n",
       "      <td>2013/1/1</td>\n",
       "      <td>3:00</td>\n",
       "      <td>2482</td>\n",
       "    </tr>\n",
       "    <tr>\n",
       "      <th>4</th>\n",
       "      <td>2013/1/1</td>\n",
       "      <td>4:00</td>\n",
       "      <td>2412</td>\n",
       "    </tr>\n",
       "  </tbody>\n",
       "</table>\n",
       "</div>"
      ],
      "text/plain": [
       "       date  time  actual\n",
       "0  2013/1/1  0:00    2873\n",
       "1  2013/1/1  1:00    2716\n",
       "2  2013/1/1  2:00    2592\n",
       "3  2013/1/1  3:00    2482\n",
       "4  2013/1/1  4:00    2412"
      ]
     },
     "execution_count": 3,
     "metadata": {},
     "output_type": "execute_result"
    }
   ],
   "source": [
    "df.head(5)"
   ]
  },
  {
   "cell_type": "code",
   "execution_count": 4,
   "metadata": {
    "collapsed": true
   },
   "outputs": [],
   "source": [
    "#日付と時間を連結して時系列データを作成\n",
    "idx = pd.to_datetime(df['date'] + \" \" + df[\"time\"])  "
   ]
  },
  {
   "cell_type": "code",
   "execution_count": 5,
   "metadata": {
    "collapsed": false
   },
   "outputs": [
    {
     "data": {
      "text/plain": [
       "0   2013-01-01 00:00:00\n",
       "1   2013-01-01 01:00:00\n",
       "2   2013-01-01 02:00:00\n",
       "3   2013-01-01 03:00:00\n",
       "4   2013-01-01 04:00:00\n",
       "dtype: datetime64[ns]"
      ]
     },
     "execution_count": 5,
     "metadata": {},
     "output_type": "execute_result"
    }
   ],
   "source": [
    "idx.head(5)"
   ]
  },
  {
   "cell_type": "code",
   "execution_count": 6,
   "metadata": {
    "collapsed": true
   },
   "outputs": [],
   "source": [
    "#時系列インデックスを持つ、1次元データ(Series)を生成\n",
    "ts = pd.Series(df[\"actual\"].values, index=idx)"
   ]
  },
  {
   "cell_type": "code",
   "execution_count": 7,
   "metadata": {
    "collapsed": false
   },
   "outputs": [
    {
     "data": {
      "text/plain": [
       "2013-01-01 00:00:00    2873\n",
       "2013-01-01 01:00:00    2716\n",
       "2013-01-01 02:00:00    2592\n",
       "2013-01-01 03:00:00    2482\n",
       "2013-01-01 04:00:00    2412\n",
       "2013-01-01 05:00:00    2405\n",
       "2013-01-01 06:00:00    2499\n",
       "2013-01-01 07:00:00    2646\n",
       "2013-01-01 08:00:00    2778\n",
       "2013-01-01 09:00:00    2773\n",
       "2013-01-01 10:00:00    2657\n",
       "2013-01-01 11:00:00    2554\n",
       "2013-01-01 12:00:00    2485\n",
       "2013-01-01 13:00:00    2431\n",
       "2013-01-01 14:00:00    2402\n",
       "2013-01-01 15:00:00    2445\n",
       "2013-01-01 16:00:00    2697\n",
       "2013-01-01 17:00:00    3041\n",
       "2013-01-01 18:00:00    3117\n",
       "2013-01-01 19:00:00    3119\n",
       "2013-01-01 20:00:00    3132\n",
       "2013-01-01 21:00:00    3103\n",
       "2013-01-01 22:00:00    2993\n",
       "2013-01-01 23:00:00    2871\n",
       "2013-01-02 00:00:00    2663\n",
       "2013-01-02 01:00:00    2514\n",
       "2013-01-02 02:00:00    2414\n",
       "2013-01-02 03:00:00    2337\n",
       "2013-01-02 04:00:00    2295\n",
       "2013-01-02 05:00:00    2335\n",
       "dtype: int64"
      ]
     },
     "execution_count": 7,
     "metadata": {},
     "output_type": "execute_result"
    }
   ],
   "source": [
    "ts.head(30)"
   ]
  },
  {
   "cell_type": "code",
   "execution_count": 8,
   "metadata": {
    "collapsed": false
   },
   "outputs": [
    {
     "data": {
      "text/plain": [
       "<matplotlib.axes._subplots.AxesSubplot at 0x7faca5262320>"
      ]
     },
     "execution_count": 8,
     "metadata": {},
     "output_type": "execute_result"
    },
    {
     "data": {
      "image/png": "[encoded data removed]",
      "text/plain": [
       "<matplotlib.figure.Figure at 0x7facac0bd2b0>"
      ]
     },
     "metadata": {
      "image/png": {
       "height": 317,
       "width": 422
      }
     },
     "output_type": "display_data"
    }
   ],
   "source": [
    "#先頭30件をplotしてみる (1月1日0時から1月2日5時)\n",
    "ts.head(30).plot()"
   ]
  },
  {
   "cell_type": "code",
   "execution_count": 9,
   "metadata": {
    "collapsed": false
   },
   "outputs": [
    {
     "name": "stdout",
     "output_type": "stream",
     "text": [
      "2013-01-01    2717.625000\n",
      "2013-01-02    2679.375000\n",
      "2013-01-03    2871.458333\n",
      "2013-01-04    3305.041667\n",
      "2013-01-05    3462.083333\n",
      "Freq: D, dtype: float64\n",
      "2013-01    3632.861559\n",
      "2013-02    3674.470238\n",
      "2013-03    3131.790323\n",
      "2013-04    2966.729167\n",
      "2013-05    2870.169355\n",
      "Freq: M, dtype: float64\n"
     ]
    }
   ],
   "source": [
    "# ダウンサンプリングして日次データ月次データに変換\n",
    "# kind=periodで、期間のindexで出力する（月次が2013-01になる)\n",
    "# kind=timestampとすると、timestampのindexで出力される。（periodでの1月のデータは2013-01-31となる）\n",
    "dav = ts.resample('D', how='mean', kind='period')  # 日次で平均ををとる\n",
    "mav = ts.resample('M', how='mean', kind='period') # 月次で平均ををとる\n",
    "print(dav.head())\n",
    "print(mav.head())"
   ]
  },
  {
   "cell_type": "code",
   "execution_count": 10,
   "metadata": {
    "collapsed": false
   },
   "outputs": [
    {
     "data": {
      "text/plain": [
       "<matplotlib.axes._subplots.AxesSubplot at 0x7faca5217dd8>"
      ]
     },
     "execution_count": 10,
     "metadata": {},
     "output_type": "execute_result"
    },
    {
     "data": {
      "image/png": "[encoded data removed]",
      "text/plain": [
       "<matplotlib.figure.Figure at 0x7fac8d90c940>"
      ]
     },
     "metadata": {
      "image/png": {
       "height": 306,
       "width": 423
      }
     },
     "output_type": "display_data"
    }
   ],
   "source": [
    "#plot してみる\n",
    "dav.plot()\n",
    "mav.plot()"
   ]
  },
  {
   "cell_type": "code",
   "execution_count": 11,
   "metadata": {
    "collapsed": false
   },
   "outputs": [
    {
     "name": "stdout",
     "output_type": "stream",
     "text": [
      "2013-01-01 00:00:00    2873\n",
      "2013-01-01 01:00:00    2716\n",
      "2013-01-01 02:00:00    2592\n",
      "2013-01-01 03:00:00    2482\n",
      "2013-01-01 04:00:00    2412\n",
      "dtype: int64\n",
      "2013-01-01 00:00:00    2873\n",
      "2013-01-01 00:30:00    2873\n",
      "2013-01-01 01:00:00    2716\n",
      "2013-01-01 01:30:00    2716\n",
      "2013-01-01 02:00:00    2592\n",
      "2013-01-01 02:30:00    2592\n",
      "2013-01-01 03:00:00    2482\n",
      "2013-01-01 03:30:00    2482\n",
      "2013-01-01 04:00:00    2412\n",
      "Freq: 30T, dtype: int64\n",
      "2013-01-01 00:00:00    2873\n",
      "2013-01-01 00:30:00    2716\n",
      "2013-01-01 01:00:00    2716\n",
      "2013-01-01 01:30:00    2592\n",
      "2013-01-01 02:00:00    2592\n",
      "2013-01-01 02:30:00    2482\n",
      "2013-01-01 03:00:00    2482\n",
      "2013-01-01 03:30:00    2412\n",
      "2013-01-01 04:00:00    2412\n",
      "Freq: 30T, dtype: int64\n"
     ]
    }
   ],
   "source": [
    "print(ts.head())\n",
    "#1時間ごとのデータを30分ごとのデータに補完する（アップサンプリング）\n",
    "print(ts.head().resample('30min', fill_method='ffill'))  #ffillは前のデータで補完\n",
    "print(ts.head().resample('30min', fill_method='bfill'))  #bfillは次のデータで補完"
   ]
  },
  {
   "cell_type": "code",
   "execution_count": 12,
   "metadata": {
    "collapsed": false
   },
   "outputs": [
    {
     "data": {
      "text/plain": [
       "2013-01-01 00:00:00    2873.0\n",
       "2013-01-01 00:30:00    2794.5\n",
       "2013-01-01 01:00:00    2716.0\n",
       "2013-01-01 01:30:00    2654.0\n",
       "2013-01-01 02:00:00    2592.0\n",
       "2013-01-01 02:30:00    2537.0\n",
       "2013-01-01 03:00:00    2482.0\n",
       "2013-01-01 03:30:00    2447.0\n",
       "2013-01-01 04:00:00    2412.0\n",
       "Freq: 30T, dtype: float64"
      ]
     },
     "execution_count": 12,
     "metadata": {},
     "output_type": "execute_result"
    }
   ],
   "source": [
    "#前後の平均値で線形に補完\n",
    "d = pd.Series.interpolate(ts.head().resample('30min'),  method='linear') \n",
    "d"
   ]
  },
  {
   "cell_type": "code",
   "execution_count": 20,
   "metadata": {
    "collapsed": false
   },
   "outputs": [
    {
     "data": {
      "text/html": [
       "<div>\n",
       "<table border=\"1\" class=\"dataframe\">\n",
       "  <thead>\n",
       "    <tr style=\"text-align: right;\">\n",
       "      <th></th>\n",
       "      <th>actual</th>\n",
       "    </tr>\n",
       "  </thead>\n",
       "  <tbody>\n",
       "    <tr>\n",
       "      <th>2013-01-01 00:00:00</th>\n",
       "      <td>2873</td>\n",
       "    </tr>\n",
       "    <tr>\n",
       "      <th>2013-01-01 01:00:00</th>\n",
       "      <td>2716</td>\n",
       "    </tr>\n",
       "    <tr>\n",
       "      <th>2013-01-01 02:00:00</th>\n",
       "      <td>2592</td>\n",
       "    </tr>\n",
       "    <tr>\n",
       "      <th>2013-01-01 03:00:00</th>\n",
       "      <td>2482</td>\n",
       "    </tr>\n",
       "    <tr>\n",
       "      <th>2013-01-01 04:00:00</th>\n",
       "      <td>2412</td>\n",
       "    </tr>\n",
       "  </tbody>\n",
       "</table>\n",
       "</div>"
      ],
      "text/plain": [
       "                     actual\n",
       "2013-01-01 00:00:00    2873\n",
       "2013-01-01 01:00:00    2716\n",
       "2013-01-01 02:00:00    2592\n",
       "2013-01-01 03:00:00    2482\n",
       "2013-01-01 04:00:00    2412"
      ]
     },
     "execution_count": 20,
     "metadata": {},
     "output_type": "execute_result"
    }
   ],
   "source": [
    "#時系列インデックスでactual列を持つデータフレームdf_leftを作成\n",
    "df_left = pd.DataFrame(df[\"actual\"].values, index=idx, columns=['actual'])\n",
    "df_left.head()"
   ]
  },
  {
   "cell_type": "code",
   "execution_count": 21,
   "metadata": {
    "collapsed": false
   },
   "outputs": [
    {
     "data": {
      "text/html": [
       "<div>\n",
       "<table border=\"1\" class=\"dataframe\">\n",
       "  <thead>\n",
       "    <tr style=\"text-align: right;\">\n",
       "      <th></th>\n",
       "      <th>rand</th>\n",
       "    </tr>\n",
       "  </thead>\n",
       "  <tbody>\n",
       "    <tr>\n",
       "      <th>2013-01-01 00:00:00</th>\n",
       "      <td>0.144451</td>\n",
       "    </tr>\n",
       "    <tr>\n",
       "      <th>2013-01-01 01:00:00</th>\n",
       "      <td>-0.522490</td>\n",
       "    </tr>\n",
       "    <tr>\n",
       "      <th>2013-01-01 02:00:00</th>\n",
       "      <td>0.383109</td>\n",
       "    </tr>\n",
       "    <tr>\n",
       "      <th>2013-01-01 03:00:00</th>\n",
       "      <td>-1.198845</td>\n",
       "    </tr>\n",
       "    <tr>\n",
       "      <th>2013-01-01 04:00:00</th>\n",
       "      <td>0.363972</td>\n",
       "    </tr>\n",
       "  </tbody>\n",
       "</table>\n",
       "</div>"
      ],
      "text/plain": [
       "                         rand\n",
       "2013-01-01 00:00:00  0.144451\n",
       "2013-01-01 01:00:00 -0.522490\n",
       "2013-01-01 02:00:00  0.383109\n",
       "2013-01-01 03:00:00 -1.198845\n",
       "2013-01-01 04:00:00  0.363972"
      ]
     },
     "execution_count": 21,
     "metadata": {},
     "output_type": "execute_result"
    }
   ],
   "source": [
    "#同じ時系列インデックスでランダムな値を持つデータフレームdf_right作成\n",
    "df_right = pd.DataFrame(np.random.randn(len(idx)), index=idx, columns=['rand'])\n",
    "df_right.head()"
   ]
  },
  {
   "cell_type": "code",
   "execution_count": 36,
   "metadata": {
    "collapsed": false
   },
   "outputs": [
    {
     "data": {
      "text/html": [
       "<div>\n",
       "<table border=\"1\" class=\"dataframe\">\n",
       "  <thead>\n",
       "    <tr style=\"text-align: right;\">\n",
       "      <th></th>\n",
       "      <th>actual</th>\n",
       "      <th>rand</th>\n",
       "    </tr>\n",
       "  </thead>\n",
       "  <tbody>\n",
       "    <tr>\n",
       "      <th>2013-01-01 00:00:00</th>\n",
       "      <td>2873</td>\n",
       "      <td>0.144451</td>\n",
       "    </tr>\n",
       "    <tr>\n",
       "      <th>2013-01-01 01:00:00</th>\n",
       "      <td>2716</td>\n",
       "      <td>-0.522490</td>\n",
       "    </tr>\n",
       "    <tr>\n",
       "      <th>2013-01-01 02:00:00</th>\n",
       "      <td>2592</td>\n",
       "      <td>0.383109</td>\n",
       "    </tr>\n",
       "    <tr>\n",
       "      <th>2013-01-01 03:00:00</th>\n",
       "      <td>2482</td>\n",
       "      <td>-1.198845</td>\n",
       "    </tr>\n",
       "    <tr>\n",
       "      <th>2013-01-01 04:00:00</th>\n",
       "      <td>2412</td>\n",
       "      <td>0.363972</td>\n",
       "    </tr>\n",
       "  </tbody>\n",
       "</table>\n",
       "</div>"
      ],
      "text/plain": [
       "                     actual      rand\n",
       "2013-01-01 00:00:00    2873  0.144451\n",
       "2013-01-01 01:00:00    2716 -0.522490\n",
       "2013-01-01 02:00:00    2592  0.383109\n",
       "2013-01-01 03:00:00    2482 -1.198845\n",
       "2013-01-01 04:00:00    2412  0.363972"
      ]
     },
     "execution_count": 36,
     "metadata": {},
     "output_type": "execute_result"
    }
   ],
   "source": [
    "# 同一の時系列インデックスをもつ2つのデータフレームをを結合\n",
    "pd.merge(df_left, df_right, left_index=True,  right_index=True, how=\"inner\").head()"
   ]
  },
  {
   "cell_type": "code",
   "execution_count": 16,
   "metadata": {
    "collapsed": false
   },
   "outputs": [],
   "source": [
    "#0-dfの要素数のランダム値を10個生成(インデックスに使用)\n",
    "samples = np.random.randint(0, len(df), size=10)"
   ]
  },
  {
   "cell_type": "code",
   "execution_count": 17,
   "metadata": {
    "collapsed": false
   },
   "outputs": [
    {
     "data": {
      "text/plain": [
       "array([3819, 3789, 8348,  978, 2240, 4680, 7949, 5076, 1639, 1579])"
      ]
     },
     "execution_count": 17,
     "metadata": {},
     "output_type": "execute_result"
    }
   ],
   "source": [
    "samples"
   ]
  },
  {
   "cell_type": "code",
   "execution_count": 18,
   "metadata": {
    "collapsed": false
   },
   "outputs": [
    {
     "data": {
      "text/html": [
       "<div>\n",
       "<table border=\"1\" class=\"dataframe\">\n",
       "  <thead>\n",
       "    <tr style=\"text-align: right;\">\n",
       "      <th></th>\n",
       "      <th>date</th>\n",
       "      <th>time</th>\n",
       "      <th>actual</th>\n",
       "    </tr>\n",
       "  </thead>\n",
       "  <tbody>\n",
       "    <tr>\n",
       "      <th>3819</th>\n",
       "      <td>2013/6/9</td>\n",
       "      <td>3:00</td>\n",
       "      <td>2281</td>\n",
       "    </tr>\n",
       "    <tr>\n",
       "      <th>3789</th>\n",
       "      <td>2013/6/7</td>\n",
       "      <td>21:00</td>\n",
       "      <td>3080</td>\n",
       "    </tr>\n",
       "    <tr>\n",
       "      <th>8348</th>\n",
       "      <td>2013/12/14</td>\n",
       "      <td>20:00</td>\n",
       "      <td>3725</td>\n",
       "    </tr>\n",
       "    <tr>\n",
       "      <th>978</th>\n",
       "      <td>2013/2/10</td>\n",
       "      <td>18:00</td>\n",
       "      <td>3749</td>\n",
       "    </tr>\n",
       "    <tr>\n",
       "      <th>2240</th>\n",
       "      <td>2013/4/4</td>\n",
       "      <td>8:00</td>\n",
       "      <td>3152</td>\n",
       "    </tr>\n",
       "    <tr>\n",
       "      <th>4680</th>\n",
       "      <td>2013/7/15</td>\n",
       "      <td>0:00</td>\n",
       "      <td>2995</td>\n",
       "    </tr>\n",
       "    <tr>\n",
       "      <th>7949</th>\n",
       "      <td>2013/11/28</td>\n",
       "      <td>5:00</td>\n",
       "      <td>2755</td>\n",
       "    </tr>\n",
       "    <tr>\n",
       "      <th>5076</th>\n",
       "      <td>2013/7/31</td>\n",
       "      <td>12:00</td>\n",
       "      <td>4094</td>\n",
       "    </tr>\n",
       "    <tr>\n",
       "      <th>1639</th>\n",
       "      <td>2013/3/10</td>\n",
       "      <td>7:00</td>\n",
       "      <td>2469</td>\n",
       "    </tr>\n",
       "    <tr>\n",
       "      <th>1579</th>\n",
       "      <td>2013/3/7</td>\n",
       "      <td>19:00</td>\n",
       "      <td>3633</td>\n",
       "    </tr>\n",
       "  </tbody>\n",
       "</table>\n",
       "</div>"
      ],
      "text/plain": [
       "            date   time  actual\n",
       "3819    2013/6/9   3:00    2281\n",
       "3789    2013/6/7  21:00    3080\n",
       "8348  2013/12/14  20:00    3725\n",
       "978    2013/2/10  18:00    3749\n",
       "2240    2013/4/4   8:00    3152\n",
       "4680   2013/7/15   0:00    2995\n",
       "7949  2013/11/28   5:00    2755\n",
       "5076   2013/7/31  12:00    4094\n",
       "1639   2013/3/10   7:00    2469\n",
       "1579    2013/3/7  19:00    3633"
      ]
     },
     "execution_count": 18,
     "metadata": {},
     "output_type": "execute_result"
    }
   ],
   "source": [
    "df.take(samples) #dfから指定したインデックスの要素を抽出"
   ]
  },
  {
   "cell_type": "markdown",
   "metadata": {
    "collapsed": true
   },
   "source": [
    "# apacheのログ読み込み"
   ]
  },
  {
   "cell_type": "code",
   "execution_count": 27,
   "metadata": {
    "collapsed": false
   },
   "outputs": [
    {
     "name": "stdout",
     "output_type": "stream",
     "text": [
      "127.0.0.1,-,frank,10/Oct/2000:13:55:36 -0700,GET,/apache_pb.gif,200,2326\n",
      "127.0.0.1,-,frank,10/Oct/2000:13:55:36 -0700,GET,/apache_pb.gif,200,2326\n",
      "127.0.0.1,-,frank,10/Oct/2000:13:55:36 -0700,GET,/apache_pb.gif,200,2326\n",
      "127.0.0.1,-,frank,10/Oct/2000:13:55:36 -0700,GET,/apache_pb.gif,200,2326\n",
      "127.0.0.1,-,frank,10/Oct/2000:13:55:36 -0700,GET,/apache_pb.gif,200,2326"
     ]
    }
   ],
   "source": [
    "#formated.csvの作成\n",
    "import re\n",
    "\n",
    "with open('data/apache_log.txt') as fr, open('data/formated.csv', 'w') as fw:\n",
    "    for line in fr.readlines():\n",
    "        fline = re.sub(r'^(\\S+) (\\S+) (\\S+) \\[([^\\]]+)\\] \"([A-Z]+) ([^ \"]+)? HTTP/[0-9.]+\" ([0-9]{3}) ([0-9]+|-)',\n",
    "                      r'\\1,\\2,\\3,\\4,\\5,\\6,\\7,\\8', line)\n",
    "        fw.write(fline)\n",
    "        print(fline, end='')"
   ]
  },
  {
   "cell_type": "code",
   "execution_count": 32,
   "metadata": {
    "collapsed": true
   },
   "outputs": [],
   "source": [
    "df_log = pd.read_csv('data/formated.csv', \n",
    "                     header=None, \n",
    "                     names=['ip', 'identd', 'user', 'datetime', 'method', 'request', 'status', 'size'])"
   ]
  },
  {
   "cell_type": "code",
   "execution_count": 33,
   "metadata": {
    "collapsed": false
   },
   "outputs": [
    {
     "data": {
      "text/html": [
       "<div>\n",
       "<table border=\"1\" class=\"dataframe\">\n",
       "  <thead>\n",
       "    <tr style=\"text-align: right;\">\n",
       "      <th></th>\n",
       "      <th>ip</th>\n",
       "      <th>identd</th>\n",
       "      <th>user</th>\n",
       "      <th>datetime</th>\n",
       "      <th>method</th>\n",
       "      <th>request</th>\n",
       "      <th>status</th>\n",
       "      <th>size</th>\n",
       "    </tr>\n",
       "  </thead>\n",
       "  <tbody>\n",
       "    <tr>\n",
       "      <th>0</th>\n",
       "      <td>127.0.0.1</td>\n",
       "      <td>-</td>\n",
       "      <td>frank</td>\n",
       "      <td>10/Oct/2000:13:55:36 -0700</td>\n",
       "      <td>GET</td>\n",
       "      <td>/apache_pb.gif</td>\n",
       "      <td>200</td>\n",
       "      <td>2326</td>\n",
       "    </tr>\n",
       "    <tr>\n",
       "      <th>1</th>\n",
       "      <td>127.0.0.1</td>\n",
       "      <td>-</td>\n",
       "      <td>frank</td>\n",
       "      <td>10/Oct/2000:13:55:36 -0700</td>\n",
       "      <td>GET</td>\n",
       "      <td>/apache_pb.gif</td>\n",
       "      <td>200</td>\n",
       "      <td>2326</td>\n",
       "    </tr>\n",
       "    <tr>\n",
       "      <th>2</th>\n",
       "      <td>127.0.0.1</td>\n",
       "      <td>-</td>\n",
       "      <td>frank</td>\n",
       "      <td>10/Oct/2000:13:55:36 -0700</td>\n",
       "      <td>GET</td>\n",
       "      <td>/apache_pb.gif</td>\n",
       "      <td>200</td>\n",
       "      <td>2326</td>\n",
       "    </tr>\n",
       "    <tr>\n",
       "      <th>3</th>\n",
       "      <td>127.0.0.1</td>\n",
       "      <td>-</td>\n",
       "      <td>frank</td>\n",
       "      <td>10/Oct/2000:13:55:36 -0700</td>\n",
       "      <td>GET</td>\n",
       "      <td>/apache_pb.gif</td>\n",
       "      <td>200</td>\n",
       "      <td>2326</td>\n",
       "    </tr>\n",
       "    <tr>\n",
       "      <th>4</th>\n",
       "      <td>127.0.0.1</td>\n",
       "      <td>-</td>\n",
       "      <td>frank</td>\n",
       "      <td>10/Oct/2000:13:55:36 -0700</td>\n",
       "      <td>GET</td>\n",
       "      <td>/apache_pb.gif</td>\n",
       "      <td>200</td>\n",
       "      <td>2326</td>\n",
       "    </tr>\n",
       "  </tbody>\n",
       "</table>\n",
       "</div>"
      ],
      "text/plain": [
       "          ip identd   user                    datetime method         request  \\\n",
       "0  127.0.0.1      -  frank  10/Oct/2000:13:55:36 -0700    GET  /apache_pb.gif   \n",
       "1  127.0.0.1      -  frank  10/Oct/2000:13:55:36 -0700    GET  /apache_pb.gif   \n",
       "2  127.0.0.1      -  frank  10/Oct/2000:13:55:36 -0700    GET  /apache_pb.gif   \n",
       "3  127.0.0.1      -  frank  10/Oct/2000:13:55:36 -0700    GET  /apache_pb.gif   \n",
       "4  127.0.0.1      -  frank  10/Oct/2000:13:55:36 -0700    GET  /apache_pb.gif   \n",
       "\n",
       "   status  size  \n",
       "0     200  2326  \n",
       "1     200  2326  \n",
       "2     200  2326  \n",
       "3     200  2326  \n",
       "4     200  2326  "
      ]
     },
     "execution_count": 33,
     "metadata": {},
     "output_type": "execute_result"
    }
   ],
   "source": [
    "df_log"
   ]
  },
  {
   "cell_type": "code",
   "execution_count": 47,
   "metadata": {
    "collapsed": false
   },
   "outputs": [],
   "source": [
    "df_log.index = pd.to_datetime(df_log['datetime'], format='%d/%b/%Y:%H:%M:%S -0700')"
   ]
  },
  {
   "cell_type": "code",
   "execution_count": 48,
   "metadata": {
    "collapsed": false
   },
   "outputs": [
    {
     "data": {
      "text/html": [
       "<div>\n",
       "<table border=\"1\" class=\"dataframe\">\n",
       "  <thead>\n",
       "    <tr style=\"text-align: right;\">\n",
       "      <th></th>\n",
       "      <th>ip</th>\n",
       "      <th>identd</th>\n",
       "      <th>user</th>\n",
       "      <th>datetime</th>\n",
       "      <th>method</th>\n",
       "      <th>request</th>\n",
       "      <th>status</th>\n",
       "      <th>size</th>\n",
       "    </tr>\n",
       "    <tr>\n",
       "      <th>datetime</th>\n",
       "      <th></th>\n",
       "      <th></th>\n",
       "      <th></th>\n",
       "      <th></th>\n",
       "      <th></th>\n",
       "      <th></th>\n",
       "      <th></th>\n",
       "      <th></th>\n",
       "    </tr>\n",
       "  </thead>\n",
       "  <tbody>\n",
       "    <tr>\n",
       "      <th>2000-10-10 13:55:36</th>\n",
       "      <td>127.0.0.1</td>\n",
       "      <td>-</td>\n",
       "      <td>frank</td>\n",
       "      <td>10/Oct/2000:13:55:36 -0700</td>\n",
       "      <td>GET</td>\n",
       "      <td>/apache_pb.gif</td>\n",
       "      <td>200</td>\n",
       "      <td>2326</td>\n",
       "    </tr>\n",
       "    <tr>\n",
       "      <th>2000-10-10 13:55:36</th>\n",
       "      <td>127.0.0.1</td>\n",
       "      <td>-</td>\n",
       "      <td>frank</td>\n",
       "      <td>10/Oct/2000:13:55:36 -0700</td>\n",
       "      <td>GET</td>\n",
       "      <td>/apache_pb.gif</td>\n",
       "      <td>200</td>\n",
       "      <td>2326</td>\n",
       "    </tr>\n",
       "    <tr>\n",
       "      <th>2000-10-10 13:55:36</th>\n",
       "      <td>127.0.0.1</td>\n",
       "      <td>-</td>\n",
       "      <td>frank</td>\n",
       "      <td>10/Oct/2000:13:55:36 -0700</td>\n",
       "      <td>GET</td>\n",
       "      <td>/apache_pb.gif</td>\n",
       "      <td>200</td>\n",
       "      <td>2326</td>\n",
       "    </tr>\n",
       "    <tr>\n",
       "      <th>2000-10-10 13:55:36</th>\n",
       "      <td>127.0.0.1</td>\n",
       "      <td>-</td>\n",
       "      <td>frank</td>\n",
       "      <td>10/Oct/2000:13:55:36 -0700</td>\n",
       "      <td>GET</td>\n",
       "      <td>/apache_pb.gif</td>\n",
       "      <td>200</td>\n",
       "      <td>2326</td>\n",
       "    </tr>\n",
       "    <tr>\n",
       "      <th>2000-10-10 13:55:36</th>\n",
       "      <td>127.0.0.1</td>\n",
       "      <td>-</td>\n",
       "      <td>frank</td>\n",
       "      <td>10/Oct/2000:13:55:36 -0700</td>\n",
       "      <td>GET</td>\n",
       "      <td>/apache_pb.gif</td>\n",
       "      <td>200</td>\n",
       "      <td>2326</td>\n",
       "    </tr>\n",
       "  </tbody>\n",
       "</table>\n",
       "</div>"
      ],
      "text/plain": [
       "                            ip identd   user                    datetime  \\\n",
       "datetime                                                                   \n",
       "2000-10-10 13:55:36  127.0.0.1      -  frank  10/Oct/2000:13:55:36 -0700   \n",
       "2000-10-10 13:55:36  127.0.0.1      -  frank  10/Oct/2000:13:55:36 -0700   \n",
       "2000-10-10 13:55:36  127.0.0.1      -  frank  10/Oct/2000:13:55:36 -0700   \n",
       "2000-10-10 13:55:36  127.0.0.1      -  frank  10/Oct/2000:13:55:36 -0700   \n",
       "2000-10-10 13:55:36  127.0.0.1      -  frank  10/Oct/2000:13:55:36 -0700   \n",
       "\n",
       "                    method         request  status  size  \n",
       "datetime                                                  \n",
       "2000-10-10 13:55:36    GET  /apache_pb.gif     200  2326  \n",
       "2000-10-10 13:55:36    GET  /apache_pb.gif     200  2326  \n",
       "2000-10-10 13:55:36    GET  /apache_pb.gif     200  2326  \n",
       "2000-10-10 13:55:36    GET  /apache_pb.gif     200  2326  \n",
       "2000-10-10 13:55:36    GET  /apache_pb.gif     200  2326  "
      ]
     },
     "execution_count": 48,
     "metadata": {},
     "output_type": "execute_result"
    }
   ],
   "source": [
    "df_log"
   ]
  },
  {
   "cell_type": "code",
   "execution_count": 50,
   "metadata": {
    "collapsed": false
   },
   "outputs": [
    {
     "data": {
      "text/html": [
       "<div>\n",
       "<table border=\"1\" class=\"dataframe\">\n",
       "  <thead>\n",
       "    <tr style=\"text-align: right;\">\n",
       "      <th></th>\n",
       "      <th>ip</th>\n",
       "      <th>identd</th>\n",
       "      <th>user</th>\n",
       "      <th>datetime</th>\n",
       "      <th>method</th>\n",
       "      <th>request</th>\n",
       "      <th>status</th>\n",
       "      <th>size</th>\n",
       "    </tr>\n",
       "    <tr>\n",
       "      <th>datetime</th>\n",
       "      <th></th>\n",
       "      <th></th>\n",
       "      <th></th>\n",
       "      <th></th>\n",
       "      <th></th>\n",
       "      <th></th>\n",
       "      <th></th>\n",
       "      <th></th>\n",
       "    </tr>\n",
       "  </thead>\n",
       "  <tbody>\n",
       "    <tr>\n",
       "      <th>2000-10-10 13:55:36-07:00</th>\n",
       "      <td>127.0.0.1</td>\n",
       "      <td>-</td>\n",
       "      <td>frank</td>\n",
       "      <td>10/Oct/2000:13:55:36 -0700</td>\n",
       "      <td>GET</td>\n",
       "      <td>/apache_pb.gif</td>\n",
       "      <td>200</td>\n",
       "      <td>2326</td>\n",
       "    </tr>\n",
       "    <tr>\n",
       "      <th>2000-10-10 13:55:36-07:00</th>\n",
       "      <td>127.0.0.1</td>\n",
       "      <td>-</td>\n",
       "      <td>frank</td>\n",
       "      <td>10/Oct/2000:13:55:36 -0700</td>\n",
       "      <td>GET</td>\n",
       "      <td>/apache_pb.gif</td>\n",
       "      <td>200</td>\n",
       "      <td>2326</td>\n",
       "    </tr>\n",
       "    <tr>\n",
       "      <th>2000-10-10 13:55:36-07:00</th>\n",
       "      <td>127.0.0.1</td>\n",
       "      <td>-</td>\n",
       "      <td>frank</td>\n",
       "      <td>10/Oct/2000:13:55:36 -0700</td>\n",
       "      <td>GET</td>\n",
       "      <td>/apache_pb.gif</td>\n",
       "      <td>200</td>\n",
       "      <td>2326</td>\n",
       "    </tr>\n",
       "    <tr>\n",
       "      <th>2000-10-10 13:55:36-07:00</th>\n",
       "      <td>127.0.0.1</td>\n",
       "      <td>-</td>\n",
       "      <td>frank</td>\n",
       "      <td>10/Oct/2000:13:55:36 -0700</td>\n",
       "      <td>GET</td>\n",
       "      <td>/apache_pb.gif</td>\n",
       "      <td>200</td>\n",
       "      <td>2326</td>\n",
       "    </tr>\n",
       "    <tr>\n",
       "      <th>2000-10-10 13:55:36-07:00</th>\n",
       "      <td>127.0.0.1</td>\n",
       "      <td>-</td>\n",
       "      <td>frank</td>\n",
       "      <td>10/Oct/2000:13:55:36 -0700</td>\n",
       "      <td>GET</td>\n",
       "      <td>/apache_pb.gif</td>\n",
       "      <td>200</td>\n",
       "      <td>2326</td>\n",
       "    </tr>\n",
       "  </tbody>\n",
       "</table>\n",
       "</div>"
      ],
      "text/plain": [
       "                                  ip identd   user  \\\n",
       "datetime                                             \n",
       "2000-10-10 13:55:36-07:00  127.0.0.1      -  frank   \n",
       "2000-10-10 13:55:36-07:00  127.0.0.1      -  frank   \n",
       "2000-10-10 13:55:36-07:00  127.0.0.1      -  frank   \n",
       "2000-10-10 13:55:36-07:00  127.0.0.1      -  frank   \n",
       "2000-10-10 13:55:36-07:00  127.0.0.1      -  frank   \n",
       "\n",
       "                                             datetime method         request  \\\n",
       "datetime                                                                       \n",
       "2000-10-10 13:55:36-07:00  10/Oct/2000:13:55:36 -0700    GET  /apache_pb.gif   \n",
       "2000-10-10 13:55:36-07:00  10/Oct/2000:13:55:36 -0700    GET  /apache_pb.gif   \n",
       "2000-10-10 13:55:36-07:00  10/Oct/2000:13:55:36 -0700    GET  /apache_pb.gif   \n",
       "2000-10-10 13:55:36-07:00  10/Oct/2000:13:55:36 -0700    GET  /apache_pb.gif   \n",
       "2000-10-10 13:55:36-07:00  10/Oct/2000:13:55:36 -0700    GET  /apache_pb.gif   \n",
       "\n",
       "                           status  size  \n",
       "datetime                                 \n",
       "2000-10-10 13:55:36-07:00     200  2326  \n",
       "2000-10-10 13:55:36-07:00     200  2326  \n",
       "2000-10-10 13:55:36-07:00     200  2326  \n",
       "2000-10-10 13:55:36-07:00     200  2326  \n",
       "2000-10-10 13:55:36-07:00     200  2326  "
      ]
     },
     "execution_count": 50,
     "metadata": {},
     "output_type": "execute_result"
    }
   ],
   "source": [
    "df_log = df_log.tz_localize('US/Arizona')\n",
    "df_log"
   ]
  },
  {
   "cell_type": "code",
   "execution_count": 51,
   "metadata": {
    "collapsed": false
   },
   "outputs": [
    {
     "data": {
      "text/html": [
       "<div>\n",
       "<table border=\"1\" class=\"dataframe\">\n",
       "  <thead>\n",
       "    <tr style=\"text-align: right;\">\n",
       "      <th></th>\n",
       "      <th>ip</th>\n",
       "      <th>identd</th>\n",
       "      <th>user</th>\n",
       "      <th>datetime</th>\n",
       "      <th>method</th>\n",
       "      <th>request</th>\n",
       "      <th>status</th>\n",
       "      <th>size</th>\n",
       "    </tr>\n",
       "    <tr>\n",
       "      <th>datetime</th>\n",
       "      <th></th>\n",
       "      <th></th>\n",
       "      <th></th>\n",
       "      <th></th>\n",
       "      <th></th>\n",
       "      <th></th>\n",
       "      <th></th>\n",
       "      <th></th>\n",
       "    </tr>\n",
       "  </thead>\n",
       "  <tbody>\n",
       "    <tr>\n",
       "      <th>2000-10-11 05:55:36+09:00</th>\n",
       "      <td>127.0.0.1</td>\n",
       "      <td>-</td>\n",
       "      <td>frank</td>\n",
       "      <td>10/Oct/2000:13:55:36 -0700</td>\n",
       "      <td>GET</td>\n",
       "      <td>/apache_pb.gif</td>\n",
       "      <td>200</td>\n",
       "      <td>2326</td>\n",
       "    </tr>\n",
       "    <tr>\n",
       "      <th>2000-10-11 05:55:36+09:00</th>\n",
       "      <td>127.0.0.1</td>\n",
       "      <td>-</td>\n",
       "      <td>frank</td>\n",
       "      <td>10/Oct/2000:13:55:36 -0700</td>\n",
       "      <td>GET</td>\n",
       "      <td>/apache_pb.gif</td>\n",
       "      <td>200</td>\n",
       "      <td>2326</td>\n",
       "    </tr>\n",
       "    <tr>\n",
       "      <th>2000-10-11 05:55:36+09:00</th>\n",
       "      <td>127.0.0.1</td>\n",
       "      <td>-</td>\n",
       "      <td>frank</td>\n",
       "      <td>10/Oct/2000:13:55:36 -0700</td>\n",
       "      <td>GET</td>\n",
       "      <td>/apache_pb.gif</td>\n",
       "      <td>200</td>\n",
       "      <td>2326</td>\n",
       "    </tr>\n",
       "    <tr>\n",
       "      <th>2000-10-11 05:55:36+09:00</th>\n",
       "      <td>127.0.0.1</td>\n",
       "      <td>-</td>\n",
       "      <td>frank</td>\n",
       "      <td>10/Oct/2000:13:55:36 -0700</td>\n",
       "      <td>GET</td>\n",
       "      <td>/apache_pb.gif</td>\n",
       "      <td>200</td>\n",
       "      <td>2326</td>\n",
       "    </tr>\n",
       "    <tr>\n",
       "      <th>2000-10-11 05:55:36+09:00</th>\n",
       "      <td>127.0.0.1</td>\n",
       "      <td>-</td>\n",
       "      <td>frank</td>\n",
       "      <td>10/Oct/2000:13:55:36 -0700</td>\n",
       "      <td>GET</td>\n",
       "      <td>/apache_pb.gif</td>\n",
       "      <td>200</td>\n",
       "      <td>2326</td>\n",
       "    </tr>\n",
       "  </tbody>\n",
       "</table>\n",
       "</div>"
      ],
      "text/plain": [
       "                                  ip identd   user  \\\n",
       "datetime                                             \n",
       "2000-10-11 05:55:36+09:00  127.0.0.1      -  frank   \n",
       "2000-10-11 05:55:36+09:00  127.0.0.1      -  frank   \n",
       "2000-10-11 05:55:36+09:00  127.0.0.1      -  frank   \n",
       "2000-10-11 05:55:36+09:00  127.0.0.1      -  frank   \n",
       "2000-10-11 05:55:36+09:00  127.0.0.1      -  frank   \n",
       "\n",
       "                                             datetime method         request  \\\n",
       "datetime                                                                       \n",
       "2000-10-11 05:55:36+09:00  10/Oct/2000:13:55:36 -0700    GET  /apache_pb.gif   \n",
       "2000-10-11 05:55:36+09:00  10/Oct/2000:13:55:36 -0700    GET  /apache_pb.gif   \n",
       "2000-10-11 05:55:36+09:00  10/Oct/2000:13:55:36 -0700    GET  /apache_pb.gif   \n",
       "2000-10-11 05:55:36+09:00  10/Oct/2000:13:55:36 -0700    GET  /apache_pb.gif   \n",
       "2000-10-11 05:55:36+09:00  10/Oct/2000:13:55:36 -0700    GET  /apache_pb.gif   \n",
       "\n",
       "                           status  size  \n",
       "datetime                                 \n",
       "2000-10-11 05:55:36+09:00     200  2326  \n",
       "2000-10-11 05:55:36+09:00     200  2326  \n",
       "2000-10-11 05:55:36+09:00     200  2326  \n",
       "2000-10-11 05:55:36+09:00     200  2326  \n",
       "2000-10-11 05:55:36+09:00     200  2326  "
      ]
     },
     "execution_count": 51,
     "metadata": {},
     "output_type": "execute_result"
    }
   ],
   "source": [
    "df_log = df_log.tz_convert('Asia/Tokyo')\n",
    "df_log"
   ]
  },
  {
   "cell_type": "code",
   "execution_count": 53,
   "metadata": {
    "collapsed": true
   },
   "outputs": [],
   "source": [
    "# XMLについては省略"
   ]
  }
 ],
 "metadata": {
  "kernelspec": {
   "display_name": "Python 3",
   "language": "python",
   "name": "python3"
  },
  "language_info": {
   "codemirror_mode": {
    "name": "ipython",
    "version": 3
   },
   "file_extension": ".py",
   "mimetype": "text/x-python",
   "name": "python",
   "nbconvert_exporter": "python",
   "pygments_lexer": "ipython3",
   "version": "3.4.4"
  }
 },
 "nbformat": 4,
 "nbformat_minor": 0
}
