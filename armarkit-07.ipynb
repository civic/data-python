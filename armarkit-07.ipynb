{
 "cells": [
  {
   "cell_type": "markdown",
   "metadata": {},
   "source": [
    "<http://www.atmarkit.co.jp/ait/articles/1312/18/news117.html>\n",
    "\n",
    "# ITエンジニアのためのデータサイエンティスト養成講座（7）\n",
    "回帰分析II：重回帰分析の方法、科学的な将来予測\n"
   ]
  },
  {
   "cell_type": "code",
   "execution_count": 2,
   "metadata": {
    "collapsed": false
   },
   "outputs": [],
   "source": [
    "%matplotlib inline\n",
    "import pandas as pd\n",
    "import numpy as np\n",
    "import matplotlib\n",
    "matplotlib.style.use('ggplot')"
   ]
  },
  {
   "cell_type": "markdown",
   "metadata": {},
   "source": [
    "前回は回帰分析にういて、最小二乗法やモデルの評価、妥当性検証などの基本的なことを紹介。\n",
    "\n",
    "今回は説明変数が2つ以上のより複雑な重回帰分析。\n",
    "\n",
    "### 再び電力消費量と気温との相関関係\n"
   ]
  },
  {
   "cell_type": "code",
   "execution_count": 6,
   "metadata": {
    "collapsed": false
   },
   "outputs": [
    {
     "data": {
      "text/html": [
       "<div>\n",
       "<table border=\"1\" class=\"dataframe\">\n",
       "  <thead>\n",
       "    <tr style=\"text-align: right;\">\n",
       "      <th></th>\n",
       "      <th>date</th>\n",
       "      <th>time</th>\n",
       "      <th>actual</th>\n",
       "    </tr>\n",
       "  </thead>\n",
       "  <tbody>\n",
       "    <tr>\n",
       "      <th>0</th>\n",
       "      <td>2013/1/1</td>\n",
       "      <td>0:00</td>\n",
       "      <td>2873</td>\n",
       "    </tr>\n",
       "    <tr>\n",
       "      <th>1</th>\n",
       "      <td>2013/1/1</td>\n",
       "      <td>1:00</td>\n",
       "      <td>2716</td>\n",
       "    </tr>\n",
       "    <tr>\n",
       "      <th>2</th>\n",
       "      <td>2013/1/1</td>\n",
       "      <td>2:00</td>\n",
       "      <td>2592</td>\n",
       "    </tr>\n",
       "    <tr>\n",
       "      <th>3</th>\n",
       "      <td>2013/1/1</td>\n",
       "      <td>3:00</td>\n",
       "      <td>2482</td>\n",
       "    </tr>\n",
       "    <tr>\n",
       "      <th>4</th>\n",
       "      <td>2013/1/1</td>\n",
       "      <td>4:00</td>\n",
       "      <td>2412</td>\n",
       "    </tr>\n",
       "  </tbody>\n",
       "</table>\n",
       "</div>"
      ],
      "text/plain": [
       "       date  time  actual\n",
       "0  2013/1/1  0:00    2873\n",
       "1  2013/1/1  1:00    2716\n",
       "2  2013/1/1  2:00    2592\n",
       "3  2013/1/1  3:00    2482\n",
       "4  2013/1/1  4:00    2412"
      ]
     },
     "execution_count": 6,
     "metadata": {},
     "output_type": "execute_result"
    }
   ],
   "source": [
    "# 東京電力の電力使用状況のデータ（2013年)\n",
    "# CSVデータ取得\n",
    "df_power = pd.read_csv('http://www.tepco.co.jp/forecast/html/images/juyo-2013.csv',\n",
    "                       skiprows=3, names=['date', 'time', 'actual'], encoding='Shift_JIS')\n",
    "df_power.head()"
   ]
  },
  {
   "cell_type": "code",
   "execution_count": 7,
   "metadata": {
    "collapsed": false
   },
   "outputs": [
    {
     "data": {
      "text/html": [
       "<div>\n",
       "<table border=\"1\" class=\"dataframe\">\n",
       "  <thead>\n",
       "    <tr style=\"text-align: right;\">\n",
       "      <th></th>\n",
       "      <th>actual</th>\n",
       "    </tr>\n",
       "  </thead>\n",
       "  <tbody>\n",
       "    <tr>\n",
       "      <th>2013-01-01</th>\n",
       "      <td>3132</td>\n",
       "    </tr>\n",
       "    <tr>\n",
       "      <th>2013-01-02</th>\n",
       "      <td>3106</td>\n",
       "    </tr>\n",
       "    <tr>\n",
       "      <th>2013-01-03</th>\n",
       "      <td>3558</td>\n",
       "    </tr>\n",
       "    <tr>\n",
       "      <th>2013-01-04</th>\n",
       "      <td>4016</td>\n",
       "    </tr>\n",
       "    <tr>\n",
       "      <th>2013-01-05</th>\n",
       "      <td>4089</td>\n",
       "    </tr>\n",
       "  </tbody>\n",
       "</table>\n",
       "</div>"
      ],
      "text/plain": [
       "            actual\n",
       "2013-01-01    3132\n",
       "2013-01-02    3106\n",
       "2013-01-03    3558\n",
       "2013-01-04    4016\n",
       "2013-01-05    4089"
      ]
     },
     "execution_count": 7,
     "metadata": {},
     "output_type": "execute_result"
    }
   ],
   "source": [
    "# 時系列インデックスの作成\n",
    "idx_power = pd.to_datetime(df_power['date'] + ' ' + df_power['time'])\n",
    "df_power.index = idx_power #データフレームのindexに設定\n",
    "\n",
    "# 不要列の削除\n",
    "del df_power['date']\n",
    "del df_power['time']\n",
    "\n",
    "#電力消費量の日次ダウンサンプリング（日次最大値)\n",
    "df_power_daily = df_power.resample('D', how='max', kind='period')\n",
    "df_power_daily.head()"
   ]
  },
  {
   "cell_type": "code",
   "execution_count": 16,
   "metadata": {
    "collapsed": false
   },
   "outputs": [],
   "source": [
    "# 気象庁提供の東京都の最高気温、最低気温のデータを取り込み\n",
    "# http://www.data.jma.go.jp/gmd/risk/obsdl/index.php \n",
    "# UIのあるページなのであらかじめダウンロードしたものを使用\n",
    "df_temp = pd.read_csv('data/tokyo-temp-2013.csv', skiprows=6,\n",
    "                      names=['date', 'high', None, None,'low', None, None], \n",
    "                      usecols=['date', 'high', 'low'],\n",
    "                      parse_dates=['date'],\n",
    "                      index_col=['date'],\n",
    "                      encoding='Shift_JIS')\n"
   ]
  },
  {
   "cell_type": "code",
   "execution_count": 17,
   "metadata": {
    "collapsed": true
   },
   "outputs": [],
   "source": [
    "# 5月から9月までの平日のデータに絞り込み\n",
    "dfx = df_temp.ix['2013-05-01':'2013-09-30'].resample('B', how='max', kind='period')\n",
    "dfy = df_power_daily.ix['2013-05-01':'2013-09-30'].resample('B', how='max', kind='period')"
   ]
  },
  {
   "cell_type": "code",
   "execution_count": null,
   "metadata": {
    "collapsed": true
   },
   "outputs": [],
   "source": []
  }
 ],
 "metadata": {
  "kernelspec": {
   "display_name": "Python 3",
   "language": "python",
   "name": "python3"
  },
  "language_info": {
   "codemirror_mode": {
    "name": "ipython",
    "version": 3
   },
   "file_extension": ".py",
   "mimetype": "text/x-python",
   "name": "python",
   "nbconvert_exporter": "python",
   "pygments_lexer": "ipython3",
   "version": "3.4.4"
  }
 },
 "nbformat": 4,
 "nbformat_minor": 0
}
